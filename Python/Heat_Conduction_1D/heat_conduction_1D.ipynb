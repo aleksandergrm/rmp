{
 "cells": [
  {
   "cell_type": "code",
   "execution_count": null,
   "id": "3dbe13ea-1cd4-4628-9723-50d26160e631",
   "metadata": {},
   "outputs": [],
   "source": []
  }
 ],
 "metadata": {
  "kernelspec": {
   "display_name": "MathLab",
   "language": "python",
   "name": "mathlab"
  },
  "language_info": {
   "codemirror_mode": {
    "name": "ipython",
    "version": 3
   },
   "file_extension": ".py",
   "mimetype": "text/x-python",
   "name": "python",
   "nbconvert_exporter": "python",
   "pygments_lexer": "ipython3",
   "version": "3.10.2"
  }
 },
 "nbformat": 4,
 "nbformat_minor": 5
}
